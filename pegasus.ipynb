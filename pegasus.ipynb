{
  "nbformat": 4,
  "nbformat_minor": 0,
  "metadata": {
    "colab": {
      "provenance": []
    },
    "kernelspec": {
      "name": "python3",
      "display_name": "Python 3"
    },
    "language_info": {
      "name": "python"
    }
  },
  "cells": [
    {
      "cell_type": "markdown",
      "source": [
        "# **ABSTRACTIVE TEXT SUMMARIZATION USING PEGASUS**\n",
        "\n",
        "---\n",
        "*   Pegasus is a text-summarization transforfmer originally sourced from huggingface.co.\n",
        "*   It provides a human-interpretation like summarization of the text considered.\n",
        "\n",
        "*   Pegasus is a self-supervised deep learning model.\n",
        "*   The basic working involves masking the main statements and ignoring the supporting statements and background information to provide compact summaries.\n",
        "\n",
        "\n",
        "\n",
        "\n"
      ],
      "metadata": {
        "id": "h87yCwwTqKe9"
      }
    },
    {
      "cell_type": "markdown",
      "source": [
        "### **Importing the necessary libraries**"
      ],
      "metadata": {
        "id": "FnbQSqrYuuA-"
      }
    },
    {
      "cell_type": "code",
      "source": [
        "! pip install transformers #installing transformers library"
      ],
      "metadata": {
        "colab": {
          "base_uri": "https://localhost:8080/"
        },
        "id": "xELIZR1JwRuF",
        "outputId": "e13a47ed-d6f1-4614-98b1-5db3c0438d8b"
      },
      "execution_count": 24,
      "outputs": [
        {
          "output_type": "stream",
          "name": "stdout",
          "text": [
            "Looking in indexes: https://pypi.org/simple, https://us-python.pkg.dev/colab-wheels/public/simple/\n",
            "Requirement already satisfied: transformers in /usr/local/lib/python3.8/dist-packages (4.25.1)\n",
            "Requirement already satisfied: tokenizers!=0.11.3,<0.14,>=0.11.1 in /usr/local/lib/python3.8/dist-packages (from transformers) (0.13.2)\n",
            "Requirement already satisfied: huggingface-hub<1.0,>=0.10.0 in /usr/local/lib/python3.8/dist-packages (from transformers) (0.11.1)\n",
            "Requirement already satisfied: packaging>=20.0 in /usr/local/lib/python3.8/dist-packages (from transformers) (21.3)\n",
            "Requirement already satisfied: pyyaml>=5.1 in /usr/local/lib/python3.8/dist-packages (from transformers) (6.0)\n",
            "Requirement already satisfied: filelock in /usr/local/lib/python3.8/dist-packages (from transformers) (3.8.0)\n",
            "Requirement already satisfied: regex!=2019.12.17 in /usr/local/lib/python3.8/dist-packages (from transformers) (2022.6.2)\n",
            "Requirement already satisfied: tqdm>=4.27 in /usr/local/lib/python3.8/dist-packages (from transformers) (4.64.1)\n",
            "Requirement already satisfied: requests in /usr/local/lib/python3.8/dist-packages (from transformers) (2.23.0)\n",
            "Requirement already satisfied: numpy>=1.17 in /usr/local/lib/python3.8/dist-packages (from transformers) (1.21.6)\n",
            "Requirement already satisfied: typing-extensions>=3.7.4.3 in /usr/local/lib/python3.8/dist-packages (from huggingface-hub<1.0,>=0.10.0->transformers) (4.1.1)\n",
            "Requirement already satisfied: pyparsing!=3.0.5,>=2.0.2 in /usr/local/lib/python3.8/dist-packages (from packaging>=20.0->transformers) (3.0.9)\n",
            "Requirement already satisfied: urllib3!=1.25.0,!=1.25.1,<1.26,>=1.21.1 in /usr/local/lib/python3.8/dist-packages (from requests->transformers) (1.24.3)\n",
            "Requirement already satisfied: certifi>=2017.4.17 in /usr/local/lib/python3.8/dist-packages (from requests->transformers) (2022.9.24)\n",
            "Requirement already satisfied: idna<3,>=2.5 in /usr/local/lib/python3.8/dist-packages (from requests->transformers) (2.10)\n",
            "Requirement already satisfied: chardet<4,>=3.0.2 in /usr/local/lib/python3.8/dist-packages (from requests->transformers) (3.0.4)\n"
          ]
        }
      ]
    },
    {
      "cell_type": "code",
      "source": [
        "! pip install sentencepiece # installing sentencepiece library to support tokenizing"
      ],
      "metadata": {
        "colab": {
          "base_uri": "https://localhost:8080/"
        },
        "id": "LuqKKU18y6b5",
        "outputId": "0b1480f6-92af-4db2-e8fa-b2c848580fc7"
      },
      "execution_count": 25,
      "outputs": [
        {
          "output_type": "stream",
          "name": "stdout",
          "text": [
            "Looking in indexes: https://pypi.org/simple, https://us-python.pkg.dev/colab-wheels/public/simple/\n",
            "Requirement already satisfied: sentencepiece in /usr/local/lib/python3.8/dist-packages (0.1.97)\n"
          ]
        }
      ]
    },
    {
      "cell_type": "code",
      "execution_count": 26,
      "metadata": {
        "id": "srqj9fdUp4vK"
      },
      "outputs": [],
      "source": [
        "from transformers import PegasusForConditionalGeneration, PegasusTokenizer \n",
        "import torch"
      ]
    },
    {
      "cell_type": "markdown",
      "source": [
        "### **Initializing variables with the PEGASUS model and setting up the GPA supporting cuda package**"
      ],
      "metadata": {
        "id": "r6jOHYtZwcEL"
      }
    },
    {
      "cell_type": "code",
      "source": [
        "summarizer = 'google/pegasus-xsum'"
      ],
      "metadata": {
        "id": "tbbO6JKmwbxs"
      },
      "execution_count": 27,
      "outputs": []
    },
    {
      "cell_type": "code",
      "source": [
        "device = 'cuda' if torch.cuda.is_available() else 'cpu'"
      ],
      "metadata": {
        "id": "LOFSA7m0zPsX"
      },
      "execution_count": 28,
      "outputs": []
    },
    {
      "cell_type": "markdown",
      "source": [
        "### **Setting up the Tokenizer and the Model**"
      ],
      "metadata": {
        "id": "RnbeT7NJyGcF"
      }
    },
    {
      "cell_type": "code",
      "source": [
        "tokenizer = PegasusTokenizer.from_pretrained(summarizer)\n",
        "model = PegasusForConditionalGeneration.from_pretrained(summarizer).to(device)"
      ],
      "metadata": {
        "id": "uMU9wpWB0J0i"
      },
      "execution_count": 29,
      "outputs": []
    },
    {
      "cell_type": "markdown",
      "source": [
        "### **Performing Summarization**"
      ],
      "metadata": {
        "id": "Qq-k_DmIHDcA"
      }
    },
    {
      "cell_type": "code",
      "source": [
        "text = \"\"\"\n",
        "Every year the average surface temperature of the earth gets more than the previous year. \n",
        "Every year it gets warmer than the previous year. Since 1880 the average surface temperature of earth has increased by about 0.8°Celsius.\n",
        "The rate of warming has been around 0.15°-0.2°Celsius per decade. \n",
        "This is a global change in the earth’s temperature and must not be confused with local changes that we experience every day, during day and night, summer and winter, etc.\n",
        "The global average temperature of the earth mainly depends on the amount of heat it receives from the sun and what it radiates back into the atmosphere. \n",
        "The heat radiated back by the earth depends on the chemical composition of the atmosphere.\n",
        "\n",
        "\"\"\"\n"
      ],
      "metadata": {
        "id": "3Oyi3y8l1tbJ"
      },
      "execution_count": 30,
      "outputs": []
    },
    {
      "cell_type": "markdown",
      "source": [
        "### **Creating Tokens**"
      ],
      "metadata": {
        "id": "C_tUUnhjIiF7"
      }
    },
    {
      "cell_type": "code",
      "source": [
        "batch = tokenizer.prepare_seq2seq_batch(text, truncation=True, padding='longest')"
      ],
      "metadata": {
        "id": "ahq79cI7QXAO"
      },
      "execution_count": 33,
      "outputs": []
    },
    {
      "cell_type": "code",
      "source": [
        "tokens = tokenizer(text, truncation=True, padding=\"longest\", return_tensors=\"pt\")"
      ],
      "metadata": {
        "id": "5V_DPd8aIbp9"
      },
      "execution_count": 34,
      "outputs": []
    },
    {
      "cell_type": "code",
      "source": [
        "tokens"
      ],
      "metadata": {
        "colab": {
          "base_uri": "https://localhost:8080/"
        },
        "id": "l9XfW5i6N7cl",
        "outputId": "da7b64cd-9e90-467f-e893-7834e93ca65a"
      },
      "execution_count": 35,
      "outputs": [
        {
          "output_type": "execute_result",
          "data": {
            "text/plain": [
              "{'input_ids': tensor([[ 2317,   232,   109,  1077,  1494,  1972,   113,   109,  2776,  1476,\n",
              "           154,   197,   109,  1331,   232,   107,  2317,   232,   126,  1476,\n",
              "          9061,   197,   109,  1331,   232,   107,  1685, 21666,   109,  1077,\n",
              "          1494,  1972,   113,  2776,   148,  1562,   141,   160, 21358,   105,\n",
              "         40553,   116, 11641,   107,   139,   872,   113,  8309,   148,   174,\n",
              "           279, 67310,   105,   121, 35968,   105, 40553,   116, 11641,   446,\n",
              "          3496,   107,   182,   117,   114,  1122,   411,   115,   109,  2776,\n",
              "           123,   116,  1972,   111,   355,   146,   129,  6436,   122,   391,\n",
              "           852,   120,   145,   306,   290,   242,   108,   333,   242,   111,\n",
              "           565,   108,   922,   111,  1582,   108,   733,   107,   139,  1122,\n",
              "          1077,  1972,   113,   109,  2776,  3187,  3551,   124,   109,   713,\n",
              "           113,  1206,   126,  7183,   135,   109,  1796,   111,   180,   126,\n",
              "         53399,   247,   190,   109,  2918,   107,   139,  1206, 69930,   247,\n",
              "           141,   109,  2776,  3551,   124,   109,  3568,  5349,   113,   109,\n",
              "          2918,   107,     1]]), 'attention_mask': tensor([[1, 1, 1, 1, 1, 1, 1, 1, 1, 1, 1, 1, 1, 1, 1, 1, 1, 1, 1, 1, 1, 1, 1, 1,\n",
              "         1, 1, 1, 1, 1, 1, 1, 1, 1, 1, 1, 1, 1, 1, 1, 1, 1, 1, 1, 1, 1, 1, 1, 1,\n",
              "         1, 1, 1, 1, 1, 1, 1, 1, 1, 1, 1, 1, 1, 1, 1, 1, 1, 1, 1, 1, 1, 1, 1, 1,\n",
              "         1, 1, 1, 1, 1, 1, 1, 1, 1, 1, 1, 1, 1, 1, 1, 1, 1, 1, 1, 1, 1, 1, 1, 1,\n",
              "         1, 1, 1, 1, 1, 1, 1, 1, 1, 1, 1, 1, 1, 1, 1, 1, 1, 1, 1, 1, 1, 1, 1, 1,\n",
              "         1, 1, 1, 1, 1, 1, 1, 1, 1, 1, 1, 1, 1, 1, 1, 1, 1, 1, 1, 1, 1, 1, 1]])}"
            ]
          },
          "metadata": {},
          "execution_count": 35
        }
      ]
    },
    {
      "cell_type": "markdown",
      "source": [
        "### **Summarize**"
      ],
      "metadata": {
        "id": "8ID9hyIzN_Ai"
      }
    },
    {
      "cell_type": "code",
      "source": [
        "import warnings\n",
        "warnings.filterwarnings('ignore')"
      ],
      "metadata": {
        "id": "H7KiIIg7cJ-L"
      },
      "execution_count": 46,
      "outputs": []
    },
    {
      "cell_type": "code",
      "source": [
        "summary = model.generate(**tokens) "
      ],
      "metadata": {
        "id": "_MbT8iAMQ-NX"
      },
      "execution_count": 47,
      "outputs": []
    },
    {
      "cell_type": "code",
      "source": [
        "summary[0]"
      ],
      "metadata": {
        "colab": {
          "base_uri": "https://localhost:8080/"
        },
        "id": "PsebW4FzRB2l",
        "outputId": "70221557-c87a-4118-d522-188b64382aa4"
      },
      "execution_count": 48,
      "outputs": [
        {
          "output_type": "execute_result",
          "data": {
            "text/plain": [
              "tensor([   0,  139, 1077, 1494, 1972,  113,  109, 2776,  148, 1562,  204,  109,\n",
              "         289, 1902,  107,    1])"
            ]
          },
          "metadata": {},
          "execution_count": 48
        }
      ]
    },
    {
      "cell_type": "code",
      "source": [
        "tokenizer.decode(summary[0],skip_special_tokens=True)"
      ],
      "metadata": {
        "colab": {
          "base_uri": "https://localhost:8080/",
          "height": 35
        },
        "id": "Isubxip0RERB",
        "outputId": "326003ec-77d0-4a4f-d783-b0545b3cd76c"
      },
      "execution_count": 49,
      "outputs": [
        {
          "output_type": "execute_result",
          "data": {
            "text/plain": [
              "'The average surface temperature of the earth has increased over the last century.'"
            ],
            "application/vnd.google.colaboratory.intrinsic+json": {
              "type": "string"
            }
          },
          "metadata": {},
          "execution_count": 49
        }
      ]
    }
  ]
}